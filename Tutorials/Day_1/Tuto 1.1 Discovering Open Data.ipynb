{
 "cells": [
  {
   "cell_type": "markdown",
   "metadata": {
    "Collapsed": "false",
    "colab_type": "text",
    "id": "R_adEak0Q8NT"
   },
   "source": [
    "<img style=\"float: left;padding: 1.3em\" src=\"https://indico.in2p3.fr/event/18313/logo-786578160.png\">  \n",
    "\n",
    "#  Gravitational Wave Open Data Workshop #4\n",
    "\n",
    "\n",
    "#### Tutorial 1.1: Discovering open data from GW observatories\n",
    "\n",
    "This notebook describes how to discover what data are available from the [Gravitational-Wave Open Science Center (GWOSC)](https://www.gw-openscience.org).\n",
    "    \n",
    "[Click this link to view this tutorial in Google Colaboratory](https://colab.research.google.com/github/gw-odw/odw-2021/blob/master/Tutorials/Day_1/Tuto%201.1%20Discovering%20Open%20Data.ipynb)"
   ]
  },
  {
   "cell_type": "markdown",
   "metadata": {
    "Collapsed": "false",
    "colab_type": "text",
    "id": "W6msjCJVQ8NV"
   },
   "source": [
    "## Software installation  (execute only if running on a cloud platform or haven't done the installation yet!)\n",
    "\n",
    "First, we need to install the software, which we do following the instruction in [Software Setup Instructions](https://github.com/gw-odw/odw-2021/blob/master/setup.md):"
   ]
  },
  {
   "cell_type": "code",
   "execution_count": 1,
   "metadata": {},
   "outputs": [],
   "source": [
    "# -- Uncomment following line if running in Google Colab\n",
    "#! pip install -q 'gwosc==0.5.4'"
   ]
  },
  {
   "cell_type": "code",
   "execution_count": 1,
   "metadata": {},
   "outputs": [
    {
     "name": "stdout",
     "output_type": "stream",
     "text": [
      "0.5.6\n"
     ]
    }
   ],
   "source": [
    "#check the version of the package gwosc you are using\n",
    "import gwosc\n",
    "print(gwosc.__version__)"
   ]
  },
  {
   "cell_type": "markdown",
   "metadata": {},
   "source": [
    "The version you get should be 0.5.4. If it's not, check that you have followed all the steps in [Software Setup Instructions](https://github.com/gw-odw/odw-2021/blob/master/setup.md)."
   ]
  },
  {
   "cell_type": "markdown",
   "metadata": {
    "Collapsed": "false",
    "colab_type": "text",
    "id": "F3tmmQ-hQ8Nu"
   },
   "source": [
    "## Querying for event information\n",
    "\n",
    "The module `gwosc.catalog`  provides tools to search for events in a catalog.\n",
    "\n",
    "The module `gwosc.datasets` provides tools for searching for datasets, including full run strain data releases.\n",
    "\n",
    "\n",
    "For example, we can search for events in the [GWTC-1 catalog](https://www.gw-openscience.org/eventapi/html/GWTC-1-confident/), the catalog of all events from the O1 and O2 observing runs. A list of available catalogs can be seen in the [Event Portal](https://gw-openscience.org/eventapi)"
   ]
  },
  {
   "cell_type": "code",
   "execution_count": 20,
   "metadata": {
    "Collapsed": "false",
    "colab": {
     "base_uri": "https://localhost:8080/",
     "height": 55
    },
    "colab_type": "code",
    "id": "-BkUqpvkQ8Nv",
    "outputId": "7447d54f-4aab-4994-bad0-599cf323db95"
   },
   "outputs": [
    {
     "name": "stdout",
     "output_type": "stream",
     "text": [
      "GWTC-1 events: ['GW150914', 'GW151012', 'GW151226', 'GW170104', 'GW170608', 'GW170729', 'GW170809', 'GW170814', 'GW170817', 'GW170818', 'GW170823']\n",
      "11\n",
      "\n",
      "Large data sets: ['BKGW170608_16KHZ_R1', 'O1', 'O1_16KHZ', 'O2_16KHZ_R1', 'O2_4KHZ_R1', 'O3a_16KHZ_R1', 'O3a_4KHZ_R1', 'S5', 'S6', 'oldhistory']\n"
     ]
    }
   ],
   "source": [
    "from gwosc.datasets import find_datasets\n",
    "from gwosc import catalog\n",
    "\n",
    "#-- Print all the GW events from the GWTC-1 catalog \n",
    "gwtc1 = catalog.events('GWTC-1-confident')\n",
    "print('GWTC-1 events:', gwtc1)\n",
    "print(len(gwtc1))\n",
    "print(\"\")\n",
    "\n",
    "#-- Print all the large strain data sets from LIGO/Virgo observing runs\n",
    "runs = find_datasets(\n",
    "    detector=None,\n",
    "    type=\"run\",\n",
    "    segment=None,\n",
    "    match=None,\n",
    "    catalog=None,\n",
    "    version=None,)\n",
    "print('Large data sets:', runs)"
   ]
  },
  {
   "cell_type": "markdown",
   "metadata": {},
   "source": [
    "_Attention: Note that the most recent observation runs, e.g. O2, are labeled with names containing the name of the run (e.g. O2), the sampling rate (4 or 16 kHz) and the release version (e.g. R1). This means that for O2 you have two labels 'O2_4KHZ_R1' and 'O2_16KHZ_R1', depending which is the desired sampling rate_"
   ]
  },
  {
   "cell_type": "markdown",
   "metadata": {
    "Collapsed": "false",
    "colab_type": "text",
    "id": "D9_tRXpMQ8N8"
   },
   "source": [
    "`catalog.events` also accepts a `segment` and `detector` keyword to narrow results based on GPS time and detector:"
   ]
  },
  {
   "cell_type": "code",
   "execution_count": 21,
   "metadata": {
    "Collapsed": "false",
    "colab": {
     "base_uri": "https://localhost:8080/",
     "height": 55
    },
    "colab_type": "code",
    "id": "XZTniqwHQ8N-",
    "outputId": "11adc70a-9cc0-4a38-b45e-45746571da00"
   },
   "outputs": [
    {
     "name": "stdout",
     "output_type": "stream",
     "text": [
      "['GW170104', 'GW170608', 'GW170729', 'GW170809', 'GW170814', 'GW170817', 'GW170818', 'GW170823']\n"
     ]
    }
   ],
   "source": [
    "#-- Detector and segments keywords limit search result\n",
    "#-- Events for a particular detector\n",
    "print(catalog.events('GWTC-1-confident', detector=\"H1\", segment=(1164556817, 1187733618)))"
   ]
  },
  {
   "cell_type": "markdown",
   "metadata": {
    "Collapsed": "false",
    "colab_type": "text",
    "id": "7pnAItOJQ8OC"
   },
   "source": [
    "Using `gwosc.datasets.event_gps`, we can query for the GPS time of a specific event:"
   ]
  },
  {
   "cell_type": "code",
   "execution_count": 29,
   "metadata": {
    "Collapsed": "false",
    "colab": {
     "base_uri": "https://localhost:8080/",
     "height": 35
    },
    "colab_type": "code",
    "id": "tdr8c15_Q8OD",
    "outputId": "d0c58186-4197-459b-e67c-3dfc3db64bbd"
   },
   "outputs": [
    {
     "name": "stdout",
     "output_type": "stream",
     "text": [
      "1167559936.6\n"
     ]
    }
   ],
   "source": [
    "from gwosc.datasets import event_gps\n",
    "gps = event_gps('GW170104')\n",
    "print(gps)"
   ]
  },
  {
   "cell_type": "markdown",
   "metadata": {
    "Collapsed": "false",
    "colab_type": "text",
    "id": "hKvQhYAOQ8OG"
   },
   "source": [
    "<div class=\"alert alert-info\">All of these times are returned in the GPS time system, which counts the number of seconds that have elapsed since the start of the GPS epoch at midnight (00:00) on January 6th 1980. GWOSC provides a <a href=\"https://www.gw-openscience.org/gps/\">GPS time converter</a> you can use to translate into datetime, or you can use <a href=\"https://gwpy.github.io/docs/stable/time/\"><code>gwpy.time</code></a>.</div>"
   ]
  },
  {
   "cell_type": "markdown",
   "metadata": {
    "Collapsed": "false",
    "colab_type": "text",
    "id": "RXVyJsDDQ8OH"
   },
   "source": [
    "We can query for the GPS time interval for an observing run:"
   ]
  },
  {
   "cell_type": "code",
   "execution_count": 24,
   "metadata": {
    "Collapsed": "false",
    "colab": {
     "base_uri": "https://localhost:8080/",
     "height": 35
    },
    "colab_type": "code",
    "id": "QYsQSPNJQ8OK",
    "outputId": "0415258a-cad5-4779-85d2-595ca9c20ce1"
   },
   "outputs": [
    {
     "name": "stdout",
     "output_type": "stream",
     "text": [
      "(1164556817, 1187733618)\n",
      "23176801\n",
      "[datetime.datetime(2016, 11, 30, 16, 0), datetime.datetime(2017, 8, 25, 22, 0)]\n",
      "(1164556817, 1187733618)\n",
      "23176801\n",
      "[datetime.datetime(2016, 11, 30, 16, 0), datetime.datetime(2017, 8, 25, 22, 0)]\n"
     ]
    }
   ],
   "source": [
    "import gwpy.time as time\n",
    "from gwosc.datasets import run_segment\n",
    "import numpy as np\n",
    "\n",
    "for i in ['O2_16KHZ_R1', 'O2_4KHZ_R1']:\n",
    "    x = run_segment(i)\n",
    "    print(x)\n",
    "    print(x[1] - x[0])\n",
    "    print(list(map(time.from_gps, x)))"
   ]
  },
  {
   "cell_type": "code",
   "execution_count": null,
   "metadata": {},
   "outputs": [],
   "source": []
  },
  {
   "cell_type": "markdown",
   "metadata": {},
   "source": [
    "To see only the confident events in O1:"
   ]
  },
  {
   "cell_type": "code",
   "execution_count": 39,
   "metadata": {},
   "outputs": [
    {
     "name": "stdout",
     "output_type": "stream",
     "text": [
      "['GW150914', 'GW151012', 'GW151226']\n"
     ]
    }
   ],
   "source": [
    "O1_events = catalog.events('GWTC-1-confident', segment = run_segment('O1_16KHZ'))\n",
    "print(O1_events)"
   ]
  },
  {
   "cell_type": "markdown",
   "metadata": {
    "Collapsed": "false",
    "colab_type": "text",
    "id": "ACFu7w4_Q8OO"
   },
   "source": [
    "## Querying for data files\n",
    "\n",
    "The `gwosc.locate` module provides a function to find the URLs of data files associated with a given dataset.\n",
    "\n",
    "For event datasets, one can get the list of URLs using only the event name:"
   ]
  },
  {
   "cell_type": "code",
   "execution_count": 41,
   "metadata": {
    "Collapsed": "false",
    "colab": {
     "base_uri": "https://localhost:8080/",
     "height": 55
    },
    "colab_type": "code",
    "id": "uMb1bsBNQ8OQ",
    "outputId": "ca3f6a31-5adf-45e5-c86d-e8a4696914d5"
   },
   "outputs": [
    {
     "name": "stdout",
     "output_type": "stream",
     "text": [
      "['https://www.gw-openscience.org/eventapi/json/GWTC-1-confident/GW150914/v3/H-H1_GWOSC_4KHZ_R1-1126259447-32.hdf5', 'https://www.gw-openscience.org/eventapi/json/GWTC-1-confident/GW150914/v3/H-H1_GWOSC_4KHZ_R1-1126257415-4096.hdf5', 'https://www.gw-openscience.org/eventapi/json/GWTC-1-confident/GW150914/v3/L-L1_GWOSC_4KHZ_R1-1126259447-32.hdf5', 'https://www.gw-openscience.org/eventapi/json/GWTC-1-confident/GW150914/v3/L-L1_GWOSC_4KHZ_R1-1126257415-4096.hdf5']\n"
     ]
    }
   ],
   "source": [
    "from gwosc.locate import get_event_urls\n",
    "urls = get_event_urls('GW150914')\n",
    "print(urls)"
   ]
  },
  {
   "cell_type": "markdown",
   "metadata": {
    "Collapsed": "false",
    "colab_type": "text",
    "id": "19XV79-XQ8OV"
   },
   "source": [
    "By default, this function returns all of the files associated with a given event, which isn't particularly helpful. However, we can can filter on any of these by using keyword arguments, for example to get the URL for the 32-second file for the LIGO-Livingston detector:"
   ]
  },
  {
   "cell_type": "code",
   "execution_count": 45,
   "metadata": {
    "Collapsed": "false",
    "colab": {
     "base_uri": "https://localhost:8080/",
     "height": 35
    },
    "colab_type": "code",
    "id": "H7MfuRbPQ8OW",
    "outputId": "2fc89919-72db-4bdb-bd4b-e073703cb62a"
   },
   "outputs": [
    {
     "name": "stdout",
     "output_type": "stream",
     "text": [
      "['https://www.gw-openscience.org/eventapi/json/GWTC-1-confident/GW170817/v3/V-V1_GWOSC_4KHZ_R1-1187006835-4096.hdf5']\n"
     ]
    }
   ],
   "source": [
    "urls = get_event_urls('GW170817', duration=4096, detector='V1')\n",
    "print(urls)"
   ]
  },
  {
   "cell_type": "markdown",
   "metadata": {
    "Collapsed": "false",
    "colab_type": "text",
    "id": "r_YLBpR0Q8Oe"
   },
   "source": [
    "# Exercises\n",
    "\n",
    "Now that you've seen examples of how to query for dataset information using the `gwosc` package, please try and complete the following exercies using that interface:\n",
    "\n",
    "- How many months did O2 last? (Hint: check the output of _find_datasets(type='run')_ to find the correct label to use)\n",
    "- How many GWTC-1-confident events were detected during O1?\n",
    "- What file URL contains data for V1 4096 seconds around GW170817?"
   ]
  },
  {
   "cell_type": "code",
   "execution_count": null,
   "metadata": {},
   "outputs": [],
   "source": []
  }
 ],
 "metadata": {
  "colab": {
   "name": "Tuto 1.1 Discovering Open Data.ipynb",
   "provenance": []
  },
  "kernelspec": {
   "display_name": "igwn-py38",
   "language": "python",
   "name": "igwn-py38"
  },
  "language_info": {
   "codemirror_mode": {
    "name": "ipython",
    "version": 3
   },
   "file_extension": ".py",
   "mimetype": "text/x-python",
   "name": "python",
   "nbconvert_exporter": "python",
   "pygments_lexer": "ipython3",
   "version": "3.8.8"
  }
 },
 "nbformat": 4,
 "nbformat_minor": 4
}
